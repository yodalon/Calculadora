{
  "cells": [
    {
      "cell_type": "markdown",
      "metadata": {
        "id": "view-in-github",
        "colab_type": "text"
      },
      "source": [
        "<a href=\"https://colab.research.google.com/github/yodalon/Calculadora/blob/main/TrabajoCientifica.ipynb\" target=\"_parent\"><img src=\"https://colab.research.google.com/assets/colab-badge.svg\" alt=\"Open In Colab\"/></a>"
      ]
    },
    {
      "cell_type": "markdown",
      "source": [
        "**INTRODUCCIÓN A LA PROGRAMACIÓN CIENTÍFICA - TECNOLOGÍA EN DESARROLLO DE SOFTWARE - 2023-1 - TALLER # 4**"
      ],
      "metadata": {
        "id": "zNDxXGuLt-pY"
      }
    },
    {
      "cell_type": "markdown",
      "source": [
        "**PUNTO # 1:** Se importa la información de acceso y sistemas de salud en un DataFrame de Pandas, se descarga el archivo y se sube previamente por medio de GitHub."
      ],
      "metadata": {
        "id": "VL-V85aEuL9m"
      }
    },
    {
      "cell_type": "code",
      "source": [
        "import pandas as pd\n",
        "import matplotlib.pyplot as plt\n",
        "\n",
        "url = 'https://raw.githubusercontent.com/yodalon/proyeccto/main/data.csv'\n",
        "df = pd.read_csv(url, sep=';')\n",
        "\n",
        "print(df.head())"
      ],
      "metadata": {
        "id": "fo7fs7Puu16n",
        "outputId": "ea7950d6-a2fa-4bf2-ffe7-2b21d80a62d3",
        "colab": {
          "base_uri": "https://localhost:8080/"
        }
      },
      "execution_count": 125,
      "outputs": [
        {
          "output_type": "stream",
          "name": "stdout",
          "text": [
            "      setting  date                         source         indicator_abbr  \\\n",
            "0     Liberia  2021  WHO Global Health Observatory  ASSISTIVETECH_METNEED   \n",
            "1  Azerbaijan  2021  WHO Global Health Observatory  ASSISTIVETECH_METNEED   \n",
            "2    Djibouti  2021  WHO Global Health Observatory  ASSISTIVETECH_METNEED   \n",
            "3      Sweden  2021  WHO Global Health Observatory  ASSISTIVETECH_METNEED   \n",
            "4        Togo  2021  WHO Global Health Observatory  ASSISTIVETECH_METNEED   \n",
            "\n",
            "                       indicator_name               dimension     subgroup  \\\n",
            "0  Met need of assistive products (%)  Age (9 groups) (0-80+)    80+ years   \n",
            "1  Met need of assistive products (%)  Age (9 groups) (0-80+)    80+ years   \n",
            "2  Met need of assistive products (%)  Age (9 groups) (0-80+)  18-29 years   \n",
            "3  Met need of assistive products (%)  Age (9 groups) (0-80+)  60-69 years   \n",
            "4  Met need of assistive products (%)      Place of residence        Urban   \n",
            "\n",
            "   estimate  se  ci_lb  ...  iso3  favourable_indicator indicator_scale  \\\n",
            "0       1.0 NaN    NaN  ...   LBR                     1             100   \n",
            "1      20.0 NaN    NaN  ...   AZE                     1             100   \n",
            "2       2.0 NaN    NaN  ...   DJI                     1             100   \n",
            "3      77.0 NaN    NaN  ...   SWE                     1             100   \n",
            "4       3.0 NaN    NaN  ...   TGO                     1             100   \n",
            "\n",
            "   ordered_dimension subgroup_order  reference_subgroup  \\\n",
            "0                  1              9                   0   \n",
            "1                  1              9                   0   \n",
            "2                  1              3                   0   \n",
            "3                  1              7                   0   \n",
            "4                  0              0                   1   \n",
            "\n",
            "                 whoreg6         wbincome2023        update  dataset_id  \n",
            "0                African           Low income  1 March 2023  rep_gho_hc  \n",
            "1               European  Upper middle income  1 March 2023  rep_gho_hc  \n",
            "2  Eastern Mediterranean  Lower middle income  1 March 2023  rep_gho_hc  \n",
            "3               European          High income  1 March 2023  rep_gho_hc  \n",
            "4                African           Low income  1 March 2023  rep_gho_hc  \n",
            "\n",
            "[5 rows x 24 columns]\n"
          ]
        }
      ]
    },
    {
      "cell_type": "markdown",
      "source": [
        "**PUNTO # 2:**\n",
        "**Análisis de brecha en formación médica por sexo.**"
      ],
      "metadata": {
        "id": "o2Nwvu_Gvijh"
      }
    },
    {
      "cell_type": "code",
      "source": [
        "df[(df['setting'] == 'Colombia')]\n",
        "df[(df[\"estimate\"] == 'subgroup')]\n",
        "\n",
        "sexo=[(df[\"whoreg6\"] and df[\"estimate\"])].value_counts()\n",
        "plt.subplot(1, 2, 1)\n",
        "sexo.plot(kind=\"bar\")\n",
        "plt.title('Grafica sexo')\n",
        "plt.xlabel('Regiones')\n",
        "plt.ylabel('Cantidad Medicos')\n",
        "plt.show()\n",
        "\n",
        "\n",
        "\n",
        "\n",
        "# # # (Asumiendo que hay una columna 'Income' en el DataFrame)\n",
        "# comparable_income_countries = df[df['indicator_abbr'] == 'Nivel de ingresos comparable']\n",
        "\n",
        "# # # Paso 5: Filtrar datos para comparar con promedios de las seis regiones establecidas por la OMS\n",
        "# # regions = ['African', 'Americas', 'Eastern Mediterranean', 'European', 'South-East Asia', 'Western Pacific']\n",
        "# # regions_data = df[df['whoreg6'].isin(regions)]\n",
        "\n",
        "# # # Paso 6: Crear los gráficos de barras\n",
        "# # plt.figure(figsize=(12, 6))\n",
        "\n",
        "# #Gráfico 1: Comparación con países del continente con un nivel de ingresos comparable\n",
        "# plt.subplot(1, 2, 1)\n",
        "# plt.bar(data_colombia['indicator_abbr'], data_colombia['subgroup'], label='Colombia', color='blue', alpha=0.7)\n",
        "# plt.bar(comparable_income_countries['indicator_name'], comparable_income_countries['indicator_name'], label='Países Comparables', color='orange', alpha=0.7)\n",
        "# plt.title('Relación Médicos/Médicas por Sexo - Países con Nivel de Ingresos Comparable')\n",
        "# plt.xlabel('Sexo')\n",
        "# plt.ylabel('Relación Médicos/Médicas')\n",
        "# plt.legend()\n",
        "\n",
        "\n",
        "# # # # Gráfico 2: Comparación con promedios de las seis regiones establecidas por la OMS\n",
        "# plt.subplot(1, 2, 2)\n",
        "# plt.bar(regions_data['whoreg6']),(regions_data[''])\n",
        "# plt.title('Relación Médicos/Médicas - Por Región de la OMS')\n",
        "# plt.xticks(rotation=45)\n",
        "# plt.xlabel('Región')\n",
        "# plt.ylabel('Relación Médicos/Médicas')\n",
        "\n",
        "# # # Mostrar los gráficos\n",
        "# # plt.tight_layout()\n",
        "# # plt.show()"
      ],
      "metadata": {
        "id": "FqdZSG2nwoea",
        "outputId": "685bdef3-8100-499d-ea80-c486bfbbb15e",
        "colab": {
          "base_uri": "https://localhost:8080/",
          "height": 367
        }
      },
      "execution_count": 165,
      "outputs": [
        {
          "output_type": "error",
          "ename": "ValueError",
          "evalue": "ignored",
          "traceback": [
            "\u001b[0;31m---------------------------------------------------------------------------\u001b[0m",
            "\u001b[0;31mValueError\u001b[0m                                Traceback (most recent call last)",
            "\u001b[0;32m<ipython-input-165-ca83b55ea8f9>\u001b[0m in \u001b[0;36m<cell line: 4>\u001b[0;34m()\u001b[0m\n\u001b[1;32m      2\u001b[0m \u001b[0mdf\u001b[0m\u001b[0;34m[\u001b[0m\u001b[0;34m(\u001b[0m\u001b[0mdf\u001b[0m\u001b[0;34m[\u001b[0m\u001b[0;34m\"estimate\"\u001b[0m\u001b[0;34m]\u001b[0m \u001b[0;34m==\u001b[0m \u001b[0;34m'subgroup'\u001b[0m\u001b[0;34m)\u001b[0m\u001b[0;34m]\u001b[0m\u001b[0;34m\u001b[0m\u001b[0;34m\u001b[0m\u001b[0m\n\u001b[1;32m      3\u001b[0m \u001b[0;34m\u001b[0m\u001b[0m\n\u001b[0;32m----> 4\u001b[0;31m \u001b[0msexo\u001b[0m\u001b[0;34m=\u001b[0m\u001b[0;34m[\u001b[0m\u001b[0;34m(\u001b[0m\u001b[0mdf\u001b[0m\u001b[0;34m[\u001b[0m\u001b[0;34m\"whoreg6\"\u001b[0m\u001b[0;34m]\u001b[0m \u001b[0;32mand\u001b[0m \u001b[0mdf\u001b[0m\u001b[0;34m[\u001b[0m\u001b[0;34m\"estimate\"\u001b[0m\u001b[0;34m]\u001b[0m\u001b[0;34m)\u001b[0m\u001b[0;34m]\u001b[0m\u001b[0;34m.\u001b[0m\u001b[0mvalue_counts\u001b[0m\u001b[0;34m(\u001b[0m\u001b[0;34m)\u001b[0m\u001b[0;34m\u001b[0m\u001b[0;34m\u001b[0m\u001b[0m\n\u001b[0m\u001b[1;32m      5\u001b[0m \u001b[0mplt\u001b[0m\u001b[0;34m.\u001b[0m\u001b[0msubplot\u001b[0m\u001b[0;34m(\u001b[0m\u001b[0;36m1\u001b[0m\u001b[0;34m,\u001b[0m \u001b[0;36m2\u001b[0m\u001b[0;34m,\u001b[0m \u001b[0;36m1\u001b[0m\u001b[0;34m)\u001b[0m\u001b[0;34m\u001b[0m\u001b[0;34m\u001b[0m\u001b[0m\n\u001b[1;32m      6\u001b[0m \u001b[0msexo\u001b[0m\u001b[0;34m.\u001b[0m\u001b[0mplot\u001b[0m\u001b[0;34m(\u001b[0m\u001b[0mkind\u001b[0m\u001b[0;34m=\u001b[0m\u001b[0;34m\"bar\"\u001b[0m\u001b[0;34m)\u001b[0m\u001b[0;34m\u001b[0m\u001b[0;34m\u001b[0m\u001b[0m\n",
            "\u001b[0;32m/usr/local/lib/python3.10/dist-packages/pandas/core/generic.py\u001b[0m in \u001b[0;36m__nonzero__\u001b[0;34m(self)\u001b[0m\n\u001b[1;32m   1525\u001b[0m     \u001b[0;34m@\u001b[0m\u001b[0mfinal\u001b[0m\u001b[0;34m\u001b[0m\u001b[0;34m\u001b[0m\u001b[0m\n\u001b[1;32m   1526\u001b[0m     \u001b[0;32mdef\u001b[0m \u001b[0m__nonzero__\u001b[0m\u001b[0;34m(\u001b[0m\u001b[0mself\u001b[0m\u001b[0;34m)\u001b[0m \u001b[0;34m->\u001b[0m \u001b[0mNoReturn\u001b[0m\u001b[0;34m:\u001b[0m\u001b[0;34m\u001b[0m\u001b[0;34m\u001b[0m\u001b[0m\n\u001b[0;32m-> 1527\u001b[0;31m         raise ValueError(\n\u001b[0m\u001b[1;32m   1528\u001b[0m             \u001b[0;34mf\"The truth value of a {type(self).__name__} is ambiguous. \"\u001b[0m\u001b[0;34m\u001b[0m\u001b[0;34m\u001b[0m\u001b[0m\n\u001b[1;32m   1529\u001b[0m             \u001b[0;34m\"Use a.empty, a.bool(), a.item(), a.any() or a.all().\"\u001b[0m\u001b[0;34m\u001b[0m\u001b[0;34m\u001b[0m\u001b[0m\n",
            "\u001b[0;31mValueError\u001b[0m: The truth value of a Series is ambiguous. Use a.empty, a.bool(), a.item(), a.any() or a.all()."
          ]
        }
      ]
    },
    {
      "cell_type": "markdown",
      "source": [
        "**PUNTO # 3: Análisis de gasto en salud por hogares**"
      ],
      "metadata": {
        "id": "TJSbXHQ-VHGw"
      }
    },
    {
      "cell_type": "code",
      "source": [],
      "metadata": {
        "id": "gIblOhpuVRDh",
        "outputId": "0c8e63c0-6448-4d31-d318-094a5bcb5ce6",
        "colab": {
          "base_uri": "https://localhost:8080/",
          "height": 176
        }
      },
      "execution_count": 88,
      "outputs": [
        {
          "output_type": "error",
          "ename": "IndexError",
          "evalue": "ignored",
          "traceback": [
            "\u001b[0;31m---------------------------------------------------------------------------\u001b[0m",
            "\u001b[0;31mIndexError\u001b[0m                                Traceback (most recent call last)",
            "\u001b[0;32m<ipython-input-88-42b240bec62e>\u001b[0m in \u001b[0;36m<cell line: 1>\u001b[0;34m()\u001b[0m\n\u001b[0;32m----> 1\u001b[0;31m \u001b[0mdf\u001b[0m\u001b[0;34m=\u001b[0m\u001b[0mdf\u001b[0m\u001b[0;34m[\u001b[0m\u001b[0;34m(\u001b[0m\u001b[0mdf\u001b[0m\u001b[0;34m[\u001b[0m\u001b[0;36m1\u001b[0m\u001b[0;34m]\u001b[0m\u001b[0;34m)\u001b[0m \u001b[0;34m|\u001b[0m \u001b[0;34m(\u001b[0m\u001b[0mdf\u001b[0m\u001b[0;34m[\u001b[0m\u001b[0;36m2\u001b[0m\u001b[0;34m]\u001b[0m\u001b[0;34m)\u001b[0m\u001b[0;34m]\u001b[0m\u001b[0;34m\u001b[0m\u001b[0;34m\u001b[0m\u001b[0m\n\u001b[0m",
            "\u001b[0;31mIndexError\u001b[0m: list index out of range"
          ]
        }
      ]
    }
  ],
  "metadata": {
    "colab": {
      "name": "Te damos la bienvenida a Colaboratory",
      "provenance": [],
      "include_colab_link": true
    },
    "kernelspec": {
      "display_name": "Python 3",
      "name": "python3"
    }
  },
  "nbformat": 4,
  "nbformat_minor": 0
}